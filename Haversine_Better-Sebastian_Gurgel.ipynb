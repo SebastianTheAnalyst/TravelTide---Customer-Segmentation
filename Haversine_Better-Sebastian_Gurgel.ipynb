{
 "cells": [
  {
   "cell_type": "markdown",
   "metadata": {
    "id": "oIKNgI95ooep"
   },
   "source": [
    "## **Vincenty's formula**\n",
    "\n",
    " is a method for calculating the distance between two points on an ellipsoidal Earth model. It takes into account the Earth's ellipsoidal shape and provides a more accurate distance calculation compared to simpler methods like the Haversine formula. The formula involves iteratively solving a set of trigonometric equations to find the shortest path, also known as the geodesic, between the two points. This geodesic distance considers variations in both latitude and longitude, making it suitable for longer distances and higher accuracy requirements.\n",
    "\n",
    "\n",
    "\n",
    "*   mathematical aproach\n",
    "*   loading Geodesic for the same task\n",
    "\n"
   ]
  },
  {
   "cell_type": "markdown",
   "metadata": {
    "id": "NF-88e8Rp7hR"
   },
   "source": [
    "## **mathematical aproach**"
   ]
  },
  {
   "cell_type": "code",
   "execution_count": 1,
   "metadata": {
    "colab": {
     "base_uri": "https://localhost:8080/"
    },
    "id": "sCqjFbTtnHyT",
    "outputId": "8dbf3030-f08e-4d50-8281-e4582bcdd990"
   },
   "outputs": [
    {
     "name": "stdout",
     "output_type": "stream",
     "text": [
      "Distance in kilometers: 559.042337 km\n",
      "Distance in miles: 347.372696 miles\n"
     ]
    }
   ],
   "source": [
    "import math\n",
    "\n",
    "# WGS 84 parameters\n",
    "a = 6378137  # Equatorial radius in meters\n",
    "f = 1 / 298.257223563  # Flattening factor\n",
    "b = (1 - f) * a  # Polar radius in meters\n",
    "\n",
    "MILES_PER_KILOMETER = 0.621371\n",
    "\n",
    "MAX_ITERATIONS = 1000  # Increased number of iterations\n",
    "CONVERGENCE_THRESHOLD = 1e-15  # Adjusted convergence threshold\n",
    "\n",
    "def vincenty_distance(point1, point2, miles=False):\n",
    "    # Convert latitude and longitude to radians\n",
    "    lat1, lon1 = math.radians(point1[0]), math.radians(point1[1])\n",
    "    lat2, lon2 = math.radians(point2[0]), math.radians(point2[1])\n",
    "\n",
    "    # Calculate U1 and U2\n",
    "    U1 = math.atan((1 - f) * math.tan(lat1))\n",
    "    U2 = math.atan((1 - f) * math.tan(lat2))\n",
    "    L = lon2 - lon1\n",
    "\n",
    "    # Calculate sin and cos values\n",
    "    sinU1, cosU1 = math.sin(U1), math.cos(U1)\n",
    "    sinU2, cosU2 = math.sin(U2), math.cos(U2)\n",
    "\n",
    "    Lambda = L\n",
    "\n",
    "    # Iteratively solve for Lambda\n",
    "    for _ in range(MAX_ITERATIONS):\n",
    "        sinLambda, cosLambda = math.sin(Lambda), math.cos(Lambda)\n",
    "        sinSigma = math.sqrt((cosU2 * sinLambda) ** 2 +\n",
    "                             (cosU1 * sinU2 - sinU1 * cosU2 * cosLambda) ** 2)\n",
    "        if sinSigma == 0:\n",
    "            return 0.0  # Coincident points\n",
    "        cosSigma = sinU1 * sinU2 + cosU1 * cosU2 * cosLambda\n",
    "        sigma = math.atan2(sinSigma, cosSigma)\n",
    "        sinAlpha = cosU1 * cosU2 * sinLambda / sinSigma\n",
    "        cosSqAlpha = 1 - sinAlpha ** 2\n",
    "        cos2SigmaM = cosSigma - 2 * sinU1 * sinU2 / cosSqAlpha\n",
    "        C = f / 16 * cosSqAlpha * (4 + f * (4 - 3 * cosSqAlpha))\n",
    "        LambdaPrev = Lambda\n",
    "        Lambda = L + (1 - C) * f * sinAlpha * (sigma + C * sinSigma *\n",
    "                                               (cos2SigmaM + C * cosSigma *\n",
    "                                                (-1 + 2 * cos2SigmaM ** 2)))\n",
    "        if abs(Lambda - LambdaPrev) < CONVERGENCE_THRESHOLD:\n",
    "            break  # Successful convergence\n",
    "    else:\n",
    "        return None  # Failure to converge\n",
    "\n",
    "    # Calculate intermediate values\n",
    "    uSq = cosSqAlpha * (a ** 2 - b ** 2) / (b ** 2)\n",
    "    A = 1 + uSq / 16384 * (4096 + uSq * (-768 + uSq * (320 - 175 * uSq)))\n",
    "    B = uSq / 1024 * (256 + uSq * (-128 + uSq * (74 - 47 * uSq)))\n",
    "    deltaSigma = B * sinSigma * (cos2SigmaM + B / 4 * (cosSigma *\n",
    "                 (-1 + 2 * cos2SigmaM ** 2) - B / 6 * cos2SigmaM *\n",
    "                 (-3 + 4 * sinSigma ** 2) * (-3 + 4 * cos2SigmaM ** 2)))\n",
    "    s = b * A * (sigma - deltaSigma)\n",
    "\n",
    "    s /= 1000  # Meters to kilometers\n",
    "    if miles:\n",
    "        s *= MILES_PER_KILOMETER  # Kilometers to miles\n",
    "\n",
    "    return round(s, 6)\n",
    "\n",
    "# Test the function\n",
    "point1 = (34.0522, -118.2437)  # Los Angeles\n",
    "point2 = (37.7749, -122.4194)  # San Francisco\n",
    "\n",
    "distance_km = vincenty_distance(point1, point2)\n",
    "distance_miles = vincenty_distance(point1, point2, miles=True)\n",
    "\n",
    "print(f\"Distance in kilometers: {distance_km:.6f} km\")\n",
    "print(f\"Distance in miles: {distance_miles:.6f} miles\")\n"
   ]
  },
  {
   "cell_type": "markdown",
   "metadata": {
    "id": "x96RSLLip19J"
   },
   "source": [
    "## **loading Geodesic for the same task**"
   ]
  },
  {
   "cell_type": "code",
   "execution_count": 3,
   "metadata": {
    "colab": {
     "base_uri": "https://localhost:8080/"
    },
    "id": "Y-wfLNmQoELs",
    "outputId": "7378035e-d76c-4a8c-8b52-96c1f35eeb0e"
   },
   "outputs": [
    {
     "name": "stdout",
     "output_type": "stream",
     "text": [
      "Distance in kilometers: 559.042337 km\n",
      "Distance in miles: 347.372696 miles\n"
     ]
    }
   ],
   "source": [
    "from geographiclib.geodesic import Geodesic\n",
    "\n",
    "# Test the function\n",
    "point1 = (34.0522, - 118.2437)  # Los Angeles\n",
    "point2 = (37.7749, -122.4194)  # San Francisco\n",
    "\n",
    "geod = Geodesic.WGS84\n",
    "result = geod.Inverse(point1[0], point1[1], point2[0], point2[1])\n",
    "\n",
    "distance_km = result['s12'] / 1000  # Convert meters to kilometers\n",
    "distance_miles = distance_km * MILES_PER_KILOMETER  # Convert kilometers to miles\n",
    "\n",
    "print(f\"Distance in kilometers: {distance_km:.6f} km\")\n",
    "print(f\"Distance in miles: {distance_miles:.6f} miles\")\n"
   ]
  }
 ],
 "metadata": {
  "colab": {
   "provenance": []
  },
  "kernelspec": {
   "display_name": "Python 3 (ipykernel)",
   "language": "python",
   "name": "python3"
  },
  "language_info": {
   "codemirror_mode": {
    "name": "ipython",
    "version": 3
   },
   "file_extension": ".py",
   "mimetype": "text/x-python",
   "name": "python",
   "nbconvert_exporter": "python",
   "pygments_lexer": "ipython3",
   "version": "3.9.16"
  }
 },
 "nbformat": 4,
 "nbformat_minor": 1
}
